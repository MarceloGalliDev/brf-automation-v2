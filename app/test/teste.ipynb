{
 "cells": [
  {
   "cell_type": "code",
   "execution_count": 11,
   "metadata": {},
   "outputs": [],
   "source": [
    "from sqlalchemy import create_engine, exc\n",
    "from dotenv import load_dotenv\n",
    "from loguru import logger\n",
    "import os"
   ]
  },
  {
   "cell_type": "code",
   "execution_count": null,
   "metadata": {},
   "outputs": [],
   "source": [
    "LOG_DIRECTORY = os.getenv('LOG_DIRECTORY')\n",
    "LOG_FILE = os.path.join(LOG_DIRECTORY, 'connection.log')\n",
    "logger.add(\n",
    "    sink='D:/Python/brf-automation-v2/app/log/log_{time:YYYY-MM-DD}.log',\n",
    "    level='INFO',\n",
    "    rotation='1 day',\n",
    "    format='{time:YYYY-MM-DD} | {line} | {function}: {message}'\n",
    ")"
   ]
  }
 ],
 "metadata": {
  "kernelspec": {
   "display_name": "brf-automation-v2-uKaXrN8d",
   "language": "python",
   "name": "python3"
  },
  "language_info": {
   "codemirror_mode": {
    "name": "ipython",
    "version": 3
   },
   "file_extension": ".py",
   "mimetype": "text/x-python",
   "name": "python",
   "nbconvert_exporter": "python",
   "pygments_lexer": "ipython3",
   "version": "3.10.6"
  },
  "orig_nbformat": 4
 },
 "nbformat": 4,
 "nbformat_minor": 2
}
