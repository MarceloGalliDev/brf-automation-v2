{
 "cells": [
  {
   "cell_type": "code",
   "execution_count": 8,
   "metadata": {},
   "outputs": [],
   "source": [
    "import logging\n",
    "import os"
   ]
  },
  {
   "cell_type": "code",
   "execution_count": 9,
   "metadata": {},
   "outputs": [],
   "source": [
    "LOG_DIRECTORY = os.getenv('LOG_DIRECTORY')\n",
    "LOG_FILE = os.path.join(LOG_DIRECTORY, 'connection.log')\n",
    "\n",
    "\n",
    "def initialize_logging():\n",
    "    if not os.path.exists(LOG_DIRECTORY):\n",
    "        os.makedirs(LOG_DIRECTORY)\n",
    "    logging.basicConfig(\n",
    "        level=logging.INFO,\n",
    "        filename='connection.log',\n",
    "        format='%(asctime)s %(message)s',\n",
    "        datefmt='%d/%m/%Y %I:%M:%S %p -',\n",
    "        encoding='utf-8'\n",
    "    )\n",
    "\n",
    "\n",
    "initialize_logging()"
   ]
  }
 ],
 "metadata": {
  "kernelspec": {
   "display_name": "brf-automation-v2-uKaXrN8d",
   "language": "python",
   "name": "python3"
  },
  "language_info": {
   "codemirror_mode": {
    "name": "ipython",
    "version": 3
   },
   "file_extension": ".py",
   "mimetype": "text/x-python",
   "name": "python",
   "nbconvert_exporter": "python",
   "pygments_lexer": "ipython3",
   "version": "3.10.6"
  },
  "orig_nbformat": 4
 },
 "nbformat": 4,
 "nbformat_minor": 2
}
